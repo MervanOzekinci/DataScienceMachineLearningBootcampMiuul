{
  "cells": [
    {
      "cell_type": "markdown",
      "metadata": {
        "id": "axsR2rQbIRzw"
      },
      "source": [
        "## **Item-Based Collaborative Filtering**\n",
        "\n",
        "### **İş Problemi**\n",
        "\n",
        "* Online bir film izleme platformu (örneğin kuzukuzu.tv) iş birlikçi filtreleme yöntemi ile bir öneri sistemi geliştirmek istemektedir. \n",
        "\n",
        "* İçerik temelli öneri sistemlerini deneyen şirket topluluğunun kanaatlerini barındıracak şekilde öneriler geliştirmek istemektedir. \n",
        "\n",
        "* Kullanıcıları bir filmi beğendiğinde o film ile benzer beğenilme örüntüsüne sahip olan diğer filmler önerilmektedir. \n",
        "\n",
        "### **Veri Seti Hikayesi**\n",
        "\n",
        "* Veri seti MovieLens tarafından sağlanmıştır.\n",
        "\n",
        "* İçerisinde filmler ve bu filmlere verilen puanları barındırmaktadır.\n",
        "\n",
        "* Veri Seti yaklaşık 27000 film için yaklaşık 2.000.000 derecelendirme içermektedir. \n",
        "\n",
        "* Veri seti: https://grouplens.org/datasets/movielens/"
      ]
    },
    {
      "cell_type": "markdown",
      "metadata": {
        "id": "6_JSYW3MLxsq"
      },
      "source": [
        "#### **Adım 1: Veri Setinin Hazırlanması**"
      ]
    },
    {
      "cell_type": "code",
      "execution_count": null,
      "metadata": {
        "colab": {
          "base_uri": "https://localhost:8080/",
          "height": 206
        },
        "id": "uk2LQeqXIMpj",
        "outputId": "773cf240-28ee-416d-ab48-6d1f2104b641"
      },
      "outputs": [
        {
          "output_type": "execute_result",
          "data": {
            "text/plain": [
              "   movieId             title                                       genres  \\\n",
              "0        1  Toy Story (1995)  Adventure|Animation|Children|Comedy|Fantasy   \n",
              "1        1  Toy Story (1995)  Adventure|Animation|Children|Comedy|Fantasy   \n",
              "2        1  Toy Story (1995)  Adventure|Animation|Children|Comedy|Fantasy   \n",
              "3        1  Toy Story (1995)  Adventure|Animation|Children|Comedy|Fantasy   \n",
              "4        1  Toy Story (1995)  Adventure|Animation|Children|Comedy|Fantasy   \n",
              "\n",
              "   userId  rating            timestamp  \n",
              "0     3.0     4.0  1999-12-11 13:36:47  \n",
              "1     6.0     5.0  1997-03-13 17:50:52  \n",
              "2     8.0     4.0  1996-06-05 13:37:51  \n",
              "3    10.0     4.0  1999-11-25 02:44:47  \n",
              "4    11.0     4.5  2009-01-02 01:13:41  "
            ],
            "text/html": [
              "\n",
              "  <div id=\"df-cfebde92-2df4-487b-b873-d6ad43d3c34a\">\n",
              "    <div class=\"colab-df-container\">\n",
              "      <div>\n",
              "<style scoped>\n",
              "    .dataframe tbody tr th:only-of-type {\n",
              "        vertical-align: middle;\n",
              "    }\n",
              "\n",
              "    .dataframe tbody tr th {\n",
              "        vertical-align: top;\n",
              "    }\n",
              "\n",
              "    .dataframe thead th {\n",
              "        text-align: right;\n",
              "    }\n",
              "</style>\n",
              "<table border=\"1\" class=\"dataframe\">\n",
              "  <thead>\n",
              "    <tr style=\"text-align: right;\">\n",
              "      <th></th>\n",
              "      <th>movieId</th>\n",
              "      <th>title</th>\n",
              "      <th>genres</th>\n",
              "      <th>userId</th>\n",
              "      <th>rating</th>\n",
              "      <th>timestamp</th>\n",
              "    </tr>\n",
              "  </thead>\n",
              "  <tbody>\n",
              "    <tr>\n",
              "      <th>0</th>\n",
              "      <td>1</td>\n",
              "      <td>Toy Story (1995)</td>\n",
              "      <td>Adventure|Animation|Children|Comedy|Fantasy</td>\n",
              "      <td>3.0</td>\n",
              "      <td>4.0</td>\n",
              "      <td>1999-12-11 13:36:47</td>\n",
              "    </tr>\n",
              "    <tr>\n",
              "      <th>1</th>\n",
              "      <td>1</td>\n",
              "      <td>Toy Story (1995)</td>\n",
              "      <td>Adventure|Animation|Children|Comedy|Fantasy</td>\n",
              "      <td>6.0</td>\n",
              "      <td>5.0</td>\n",
              "      <td>1997-03-13 17:50:52</td>\n",
              "    </tr>\n",
              "    <tr>\n",
              "      <th>2</th>\n",
              "      <td>1</td>\n",
              "      <td>Toy Story (1995)</td>\n",
              "      <td>Adventure|Animation|Children|Comedy|Fantasy</td>\n",
              "      <td>8.0</td>\n",
              "      <td>4.0</td>\n",
              "      <td>1996-06-05 13:37:51</td>\n",
              "    </tr>\n",
              "    <tr>\n",
              "      <th>3</th>\n",
              "      <td>1</td>\n",
              "      <td>Toy Story (1995)</td>\n",
              "      <td>Adventure|Animation|Children|Comedy|Fantasy</td>\n",
              "      <td>10.0</td>\n",
              "      <td>4.0</td>\n",
              "      <td>1999-11-25 02:44:47</td>\n",
              "    </tr>\n",
              "    <tr>\n",
              "      <th>4</th>\n",
              "      <td>1</td>\n",
              "      <td>Toy Story (1995)</td>\n",
              "      <td>Adventure|Animation|Children|Comedy|Fantasy</td>\n",
              "      <td>11.0</td>\n",
              "      <td>4.5</td>\n",
              "      <td>2009-01-02 01:13:41</td>\n",
              "    </tr>\n",
              "  </tbody>\n",
              "</table>\n",
              "</div>\n",
              "      <button class=\"colab-df-convert\" onclick=\"convertToInteractive('df-cfebde92-2df4-487b-b873-d6ad43d3c34a')\"\n",
              "              title=\"Convert this dataframe to an interactive table.\"\n",
              "              style=\"display:none;\">\n",
              "        \n",
              "  <svg xmlns=\"http://www.w3.org/2000/svg\" height=\"24px\"viewBox=\"0 0 24 24\"\n",
              "       width=\"24px\">\n",
              "    <path d=\"M0 0h24v24H0V0z\" fill=\"none\"/>\n",
              "    <path d=\"M18.56 5.44l.94 2.06.94-2.06 2.06-.94-2.06-.94-.94-2.06-.94 2.06-2.06.94zm-11 1L8.5 8.5l.94-2.06 2.06-.94-2.06-.94L8.5 2.5l-.94 2.06-2.06.94zm10 10l.94 2.06.94-2.06 2.06-.94-2.06-.94-.94-2.06-.94 2.06-2.06.94z\"/><path d=\"M17.41 7.96l-1.37-1.37c-.4-.4-.92-.59-1.43-.59-.52 0-1.04.2-1.43.59L10.3 9.45l-7.72 7.72c-.78.78-.78 2.05 0 2.83L4 21.41c.39.39.9.59 1.41.59.51 0 1.02-.2 1.41-.59l7.78-7.78 2.81-2.81c.8-.78.8-2.07 0-2.86zM5.41 20L4 18.59l7.72-7.72 1.47 1.35L5.41 20z\"/>\n",
              "  </svg>\n",
              "      </button>\n",
              "      \n",
              "  <style>\n",
              "    .colab-df-container {\n",
              "      display:flex;\n",
              "      flex-wrap:wrap;\n",
              "      gap: 12px;\n",
              "    }\n",
              "\n",
              "    .colab-df-convert {\n",
              "      background-color: #E8F0FE;\n",
              "      border: none;\n",
              "      border-radius: 50%;\n",
              "      cursor: pointer;\n",
              "      display: none;\n",
              "      fill: #1967D2;\n",
              "      height: 32px;\n",
              "      padding: 0 0 0 0;\n",
              "      width: 32px;\n",
              "    }\n",
              "\n",
              "    .colab-df-convert:hover {\n",
              "      background-color: #E2EBFA;\n",
              "      box-shadow: 0px 1px 2px rgba(60, 64, 67, 0.3), 0px 1px 3px 1px rgba(60, 64, 67, 0.15);\n",
              "      fill: #174EA6;\n",
              "    }\n",
              "\n",
              "    [theme=dark] .colab-df-convert {\n",
              "      background-color: #3B4455;\n",
              "      fill: #D2E3FC;\n",
              "    }\n",
              "\n",
              "    [theme=dark] .colab-df-convert:hover {\n",
              "      background-color: #434B5C;\n",
              "      box-shadow: 0px 1px 3px 1px rgba(0, 0, 0, 0.15);\n",
              "      filter: drop-shadow(0px 1px 2px rgba(0, 0, 0, 0.3));\n",
              "      fill: #FFFFFF;\n",
              "    }\n",
              "  </style>\n",
              "\n",
              "      <script>\n",
              "        const buttonEl =\n",
              "          document.querySelector('#df-cfebde92-2df4-487b-b873-d6ad43d3c34a button.colab-df-convert');\n",
              "        buttonEl.style.display =\n",
              "          google.colab.kernel.accessAllowed ? 'block' : 'none';\n",
              "\n",
              "        async function convertToInteractive(key) {\n",
              "          const element = document.querySelector('#df-cfebde92-2df4-487b-b873-d6ad43d3c34a');\n",
              "          const dataTable =\n",
              "            await google.colab.kernel.invokeFunction('convertToInteractive',\n",
              "                                                     [key], {});\n",
              "          if (!dataTable) return;\n",
              "\n",
              "          const docLinkHtml = 'Like what you see? Visit the ' +\n",
              "            '<a target=\"_blank\" href=https://colab.research.google.com/notebooks/data_table.ipynb>data table notebook</a>'\n",
              "            + ' to learn more about interactive tables.';\n",
              "          element.innerHTML = '';\n",
              "          dataTable['output_type'] = 'display_data';\n",
              "          await google.colab.output.renderOutput(dataTable, element);\n",
              "          const docLink = document.createElement('div');\n",
              "          docLink.innerHTML = docLinkHtml;\n",
              "          element.appendChild(docLink);\n",
              "        }\n",
              "      </script>\n",
              "    </div>\n",
              "  </div>\n",
              "  "
            ]
          },
          "metadata": {},
          "execution_count": 1
        }
      ],
      "source": [
        "import pandas as pd\n",
        "pd.set_option('display.max_columns', 500)\n",
        "movie = pd.read_csv('/content/drive/MyDrive/DSMLBC10/week_7 (10.11.22-16.11.22)/datasets/movie_lens_dataset/movie.csv')\n",
        "rating = pd.read_csv('/content/drive/MyDrive/DSMLBC10/week_7 (10.11.22-16.11.22)/datasets/movie_lens_dataset/rating.csv')\n",
        "df = movie.merge(rating, how=\"left\", on=\"movieId\")\n",
        "df.head()"
      ]
    },
    {
      "cell_type": "markdown",
      "metadata": {
        "id": "F6egdskXMQy4"
      },
      "source": [
        "#### **Adım 2: User Movie Df'inin Oluşturulması**"
      ]
    },
    {
      "cell_type": "code",
      "execution_count": null,
      "metadata": {
        "colab": {
          "base_uri": "https://localhost:8080/"
        },
        "id": "KqxZZ1PRMPNZ",
        "outputId": "f5e7e6d1-5142-4cd3-b70c-1bd702e27672"
      },
      "outputs": [
        {
          "output_type": "execute_result",
          "data": {
            "text/plain": [
              "(20000797, 6)"
            ]
          },
          "metadata": {},
          "execution_count": 2
        }
      ],
      "source": [
        "df.shape"
      ]
    },
    {
      "cell_type": "code",
      "execution_count": null,
      "metadata": {
        "colab": {
          "base_uri": "https://localhost:8080/"
        },
        "id": "xqwJgdLpMWT0",
        "outputId": "d6f3340d-213d-497f-b6da-9cd71e36e453"
      },
      "outputs": [
        {
          "output_type": "execute_result",
          "data": {
            "text/plain": [
              "27262"
            ]
          },
          "metadata": {},
          "execution_count": 3
        }
      ],
      "source": [
        "df[\"title\"].nunique()"
      ]
    },
    {
      "cell_type": "code",
      "execution_count": null,
      "metadata": {
        "colab": {
          "base_uri": "https://localhost:8080/"
        },
        "id": "34TVVMvKMZNH",
        "outputId": "90a965f9-5948-4513-bfe6-0aa2c2870284"
      },
      "outputs": [
        {
          "output_type": "execute_result",
          "data": {
            "text/plain": [
              "Pulp Fiction (1994)                 67310\n",
              "Forrest Gump (1994)                 66172\n",
              "Shawshank Redemption, The (1994)    63366\n",
              "Silence of the Lambs, The (1991)    63299\n",
              "Jurassic Park (1993)                59715\n",
              "Name: title, dtype: int64"
            ]
          },
          "metadata": {},
          "execution_count": 4
        }
      ],
      "source": [
        "df[\"title\"].value_counts().head()"
      ]
    },
    {
      "cell_type": "code",
      "execution_count": null,
      "metadata": {
        "colab": {
          "base_uri": "https://localhost:8080/"
        },
        "id": "UkSpP6hsMbMS",
        "outputId": "2e1b2b79-4a0f-43a3-a045-be0c70ce7657"
      },
      "outputs": [
        {
          "output_type": "execute_result",
          "data": {
            "text/plain": [
              "(9050403, 6)"
            ]
          },
          "metadata": {},
          "execution_count": 5
        }
      ],
      "source": [
        "comment_counts = pd.DataFrame(df[\"title\"].value_counts())\n",
        "rare_movies = comment_counts[comment_counts[\"title\"] <= 10000].index\n",
        "common_movies = df[~df[\"title\"].isin(rare_movies)]\n",
        "common_movies.shape"
      ]
    },
    {
      "cell_type": "code",
      "execution_count": null,
      "metadata": {
        "colab": {
          "base_uri": "https://localhost:8080/"
        },
        "id": "V9Uhj-ijMfqb",
        "outputId": "6a47a4e1-57f3-48a1-864f-4a3502c25a18"
      },
      "outputs": [
        {
          "output_type": "execute_result",
          "data": {
            "text/plain": [
              "462"
            ]
          },
          "metadata": {},
          "execution_count": 6
        }
      ],
      "source": [
        "common_movies[\"title\"].nunique()"
      ]
    },
    {
      "cell_type": "code",
      "execution_count": null,
      "metadata": {
        "colab": {
          "base_uri": "https://localhost:8080/"
        },
        "id": "XoEyAqazMiny",
        "outputId": "80de1ac0-2c4f-4d6d-f1c2-6eb7560dba18"
      },
      "outputs": [
        {
          "output_type": "execute_result",
          "data": {
            "text/plain": [
              "27262"
            ]
          },
          "metadata": {},
          "execution_count": 7
        }
      ],
      "source": [
        "df[\"title\"].nunique()"
      ]
    },
    {
      "cell_type": "code",
      "execution_count": null,
      "metadata": {
        "colab": {
          "base_uri": "https://localhost:8080/"
        },
        "id": "SLDgi8d-Mkrq",
        "outputId": "89630291-1405-480e-d90f-ac0d02441d08"
      },
      "outputs": [
        {
          "output_type": "execute_result",
          "data": {
            "text/plain": [
              "(137658, 462)"
            ]
          },
          "metadata": {},
          "execution_count": 8
        }
      ],
      "source": [
        "user_movie_df = common_movies.pivot_table(index=[\"userId\"], columns=[\"title\"], values=\"rating\")\n",
        "user_movie_df.shape"
      ]
    },
    {
      "cell_type": "code",
      "execution_count": null,
      "metadata": {
        "colab": {
          "base_uri": "https://localhost:8080/"
        },
        "id": "bfKfhyFXMnwH",
        "outputId": "fb40b72d-066d-4928-c399-0aaa7991047d"
      },
      "outputs": [
        {
          "output_type": "execute_result",
          "data": {
            "text/plain": [
              "Index(['10 Things I Hate About You (1999)', '12 Angry Men (1957)',\n",
              "       '2001: A Space Odyssey (1968)', '28 Days Later (2002)', '300 (2007)',\n",
              "       'A.I. Artificial Intelligence (2001)', 'Abyss, The (1989)',\n",
              "       'Ace Ventura: Pet Detective (1994)',\n",
              "       'Ace Ventura: When Nature Calls (1995)', 'Addams Family Values (1993)',\n",
              "       ...\n",
              "       'Wild Wild West (1999)', 'William Shakespeare's Romeo + Juliet (1996)',\n",
              "       'Willy Wonka & the Chocolate Factory (1971)', 'Witness (1985)',\n",
              "       'Wizard of Oz, The (1939)', 'X-Files: Fight the Future, The (1998)',\n",
              "       'X-Men (2000)', 'X2: X-Men United (2003)', 'You've Got Mail (1998)',\n",
              "       'Young Frankenstein (1974)'],\n",
              "      dtype='object', name='title', length=462)"
            ]
          },
          "metadata": {},
          "execution_count": 9
        }
      ],
      "source": [
        "user_movie_df.columns"
      ]
    },
    {
      "cell_type": "markdown",
      "metadata": {
        "id": "xI2Tcpk1MqKt"
      },
      "source": [
        "#### **Adım 3: Item-Based Film Önerilerinin Yapılması**"
      ]
    },
    {
      "cell_type": "code",
      "execution_count": null,
      "metadata": {
        "id": "29AsvGj5Ms0-"
      },
      "outputs": [],
      "source": [
        "movie_name = \"Matrix, The (1999)\""
      ]
    },
    {
      "cell_type": "code",
      "execution_count": null,
      "metadata": {
        "id": "shmP_hdbM403"
      },
      "outputs": [],
      "source": [
        "movie_name = \"X-Men (2000)\""
      ]
    },
    {
      "cell_type": "code",
      "execution_count": null,
      "metadata": {
        "id": "QgzQbfnyM2h8"
      },
      "outputs": [],
      "source": [
        "movie_name = user_movie_df[movie_name]"
      ]
    },
    {
      "cell_type": "code",
      "execution_count": null,
      "metadata": {
        "colab": {
          "base_uri": "https://localhost:8080/"
        },
        "id": "9bMEtG0OM4PN",
        "outputId": "70cd3ee8-8018-4259-9fd1-9e657de2be11"
      },
      "outputs": [
        {
          "output_type": "execute_result",
          "data": {
            "text/plain": [
              "title\n",
              "X-Men (2000)                                                     1.000000\n",
              "X2: X-Men United (2003)                                          0.716946\n",
              "Spider-Man (2002)                                                0.492376\n",
              "Iron Man (2008)                                                  0.458369\n",
              "Spider-Man 2 (2004)                                              0.422594\n",
              "Blade (1998)                                                     0.395497\n",
              "Men in Black (a.k.a. MIB) (1997)                                 0.394806\n",
              "Pirates of the Caribbean: The Curse of the Black Pearl (2003)    0.383056\n",
              "Mummy, The (1999)                                                0.376553\n",
              "Batman Begins (2005)                                             0.375067\n",
              "dtype: float64"
            ]
          },
          "metadata": {},
          "execution_count": 17
        }
      ],
      "source": [
        "user_movie_df.corrwith(movie_name).sort_values(ascending=False).head(10)"
      ]
    },
    {
      "cell_type": "code",
      "execution_count": null,
      "metadata": {
        "colab": {
          "base_uri": "https://localhost:8080/"
        },
        "id": "9zPha2-uM6Zy",
        "outputId": "2d47ebd6-058f-4248-d9d2-4b1a50776a8c"
      },
      "outputs": [
        {
          "output_type": "execute_result",
          "data": {
            "text/plain": [
              "title\n",
              "True Romance (1993)            1.000000\n",
              "Reservoir Dogs (1992)          0.339518\n",
              "Scarface (1983)                0.326247\n",
              "Pulp Fiction (1994)            0.323993\n",
              "Natural Born Killers (1994)    0.294575\n",
              "From Dusk Till Dawn (1996)     0.293865\n",
              "Kill Bill: Vol. 2 (2004)       0.286415\n",
              "Sin City (2005)                0.285757\n",
              "Desperado (1995)               0.284598\n",
              "Kill Bill: Vol. 1 (2003)       0.275683\n",
              "dtype: float64"
            ]
          },
          "metadata": {},
          "execution_count": 18
        }
      ],
      "source": [
        "movie_name = pd.Series(user_movie_df.columns).sample(1).values[0]\n",
        "movie_name = user_movie_df[movie_name]\n",
        "user_movie_df.corrwith(movie_name).sort_values(ascending=False).head(10)"
      ]
    },
    {
      "cell_type": "code",
      "execution_count": null,
      "metadata": {
        "colab": {
          "base_uri": "https://localhost:8080/"
        },
        "id": "rKiutOL0M-Fq",
        "outputId": "a25547cc-9452-4181-f7ef-c1d48aae8dc3"
      },
      "outputs": [
        {
          "output_type": "execute_result",
          "data": {
            "text/plain": [
              "[]"
            ]
          },
          "metadata": {},
          "execution_count": 19
        }
      ],
      "source": [
        "def check_film(keyword, user_movie_df):\n",
        "    return [col for col in user_movie_df.columns if keyword in col]\n",
        "\n",
        "check_film(\"Insomnia\", user_movie_df)"
      ]
    },
    {
      "cell_type": "markdown",
      "metadata": {
        "id": "O3sgSVSEM-4w"
      },
      "source": [
        "#### **Adım 4: Çalışma Scriptinin Hazırlanması**"
      ]
    },
    {
      "cell_type": "code",
      "execution_count": null,
      "metadata": {
        "id": "y6Hf1RpVNCCA"
      },
      "outputs": [],
      "source": [
        "def create_user_movie_df():\n",
        "    import pandas as pd\n",
        "    movie = pd.read_csv('/content/drive/MyDrive/DSMLBC10/week_7 (10.11.22-16.11.22)/datasets/movie_lens_dataset/movie.csv')\n",
        "    rating = pd.read_csv('/content/drive/MyDrive/DSMLBC10/week_7 (10.11.22-16.11.22)/datasets/movie_lens_dataset/rating.csv')\n",
        "    df = movie.merge(rating, how=\"left\", on=\"movieId\")\n",
        "    comment_counts = pd.DataFrame(df[\"title\"].value_counts())\n",
        "    rare_movies = comment_counts[comment_counts[\"title\"] <= 10000].index\n",
        "    common_movies = df[~df[\"title\"].isin(rare_movies)]\n",
        "    user_movie_df = common_movies.pivot_table(index=[\"userId\"], columns=[\"title\"], values=\"rating\")\n",
        "    return user_movie_df\n",
        "\n",
        "user_movie_df = create_user_movie_df()"
      ]
    },
    {
      "cell_type": "code",
      "execution_count": null,
      "metadata": {
        "id": "_YWCLrQpNEXO"
      },
      "outputs": [],
      "source": [
        "def item_based_recommender(movie_name, user_movie_df):\n",
        "    movie_name = user_movie_df[movie_name]\n",
        "    return user_movie_df.corrwith(movie_name).sort_values(ascending=False).head(10)"
      ]
    },
    {
      "cell_type": "code",
      "execution_count": null,
      "metadata": {
        "colab": {
          "base_uri": "https://localhost:8080/"
        },
        "id": "LDdkZH2uNF1C",
        "outputId": "fc3cdf51-ad24-432c-f531-3af23e96f905"
      },
      "outputs": [
        {
          "output_type": "execute_result",
          "data": {
            "text/plain": [
              "title\n",
              "Matrix, The (1999)                                           1.000000\n",
              "Matrix Reloaded, The (2003)                                  0.516906\n",
              "Matrix Revolutions, The (2003)                               0.449588\n",
              "Blade (1998)                                                 0.334493\n",
              "Terminator 2: Judgment Day (1991)                            0.333882\n",
              "Minority Report (2002)                                       0.332434\n",
              "Mission: Impossible (1996)                                   0.320815\n",
              "Lord of the Rings: The Fellowship of the Ring, The (2001)    0.318726\n",
              "Lord of the Rings: The Two Towers, The (2002)                0.318086\n",
              "Lord of the Rings: The Return of the King, The (2003)        0.314241\n",
              "dtype: float64"
            ]
          },
          "metadata": {},
          "execution_count": 22
        }
      ],
      "source": [
        "item_based_recommender(\"Matrix, The (1999)\", user_movie_df)"
      ]
    },
    {
      "cell_type": "code",
      "execution_count": null,
      "metadata": {
        "id": "rmQCL6NwNHRQ"
      },
      "outputs": [],
      "source": [
        "movie_name = pd.Series(user_movie_df.columns).sample(1).values[0]"
      ]
    },
    {
      "cell_type": "code",
      "execution_count": null,
      "metadata": {
        "colab": {
          "base_uri": "https://localhost:8080/"
        },
        "id": "v6Djsr_sNKB8",
        "outputId": "64854487-91c4-4f21-df24-40a225b2b03b"
      },
      "outputs": [
        {
          "output_type": "execute_result",
          "data": {
            "text/plain": [
              "title\n",
              "Remains of the Day, The (1993)       1.000000\n",
              "Sense and Sensibility (1995)         0.398029\n",
              "Little Women (1994)                  0.310405\n",
              "Talented Mr. Ripley, The (1999)      0.307695\n",
              "Postman, The (Postino, Il) (1994)    0.296924\n",
              "Piano, The (1993)                    0.292561\n",
              "Crying Game, The (1992)              0.291792\n",
              "Gandhi (1982)                        0.287449\n",
              "Much Ado About Nothing (1993)        0.286938\n",
              "Quiz Show (1994)                     0.281122\n",
              "dtype: float64"
            ]
          },
          "metadata": {},
          "execution_count": 24
        }
      ],
      "source": [
        "item_based_recommender(movie_name, user_movie_df)"
      ]
    }
  ],
  "metadata": {
    "colab": {
      "provenance": []
    },
    "kernelspec": {
      "display_name": "Python 3",
      "name": "python3"
    },
    "language_info": {
      "name": "python"
    }
  },
  "nbformat": 4,
  "nbformat_minor": 0
}